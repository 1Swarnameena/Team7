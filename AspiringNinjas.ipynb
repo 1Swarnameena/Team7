{
 "cells": [
  {
   "cell_type": "code",
   "execution_count": 4,
   "id": "86e2d368",
   "metadata": {},
   "outputs": [],
   "source": [
    "import seaborn as sns\n",
    "import pandas as pd\n",
    "import numpy as np\n",
    "import matplotlib.pyplot as plt\n",
    "import datetime"
   ]
  },
  {
   "cell_type": "code",
   "execution_count": 4,
   "id": "e5ffee83",
   "metadata": {},
   "outputs": [
    {
     "data": {
      "text/html": [
       "<div>\n",
       "<style scoped>\n",
       "    .dataframe tbody tr th:only-of-type {\n",
       "        vertical-align: middle;\n",
       "    }\n",
       "\n",
       "    .dataframe tbody tr th {\n",
       "        vertical-align: top;\n",
       "    }\n",
       "\n",
       "    .dataframe thead th {\n",
       "        text-align: right;\n",
       "    }\n",
       "</style>\n",
       "<table border=\"1\" class=\"dataframe\">\n",
       "  <thead>\n",
       "    <tr style=\"text-align: right;\">\n",
       "      <th></th>\n",
       "      <th>PatientID</th>\n",
       "      <th>FirstName</th>\n",
       "      <th>LastName</th>\n",
       "      <th>DateOfBirth</th>\n",
       "      <th>Gender</th>\n",
       "      <th>Race</th>\n",
       "      <th>Language</th>\n",
       "    </tr>\n",
       "  </thead>\n",
       "  <tbody>\n",
       "    <tr>\n",
       "      <th>0</th>\n",
       "      <td>1</td>\n",
       "      <td>Lanni</td>\n",
       "      <td>Sue</td>\n",
       "      <td>1960-01-01 00:00:00.000</td>\n",
       "      <td>Male</td>\n",
       "      <td>White</td>\n",
       "      <td>English</td>\n",
       "    </tr>\n",
       "    <tr>\n",
       "      <th>1</th>\n",
       "      <td>2</td>\n",
       "      <td>Far</td>\n",
       "      <td>Myers</td>\n",
       "      <td>1985-11-15 02:08:42.090</td>\n",
       "      <td>Male</td>\n",
       "      <td>White</td>\n",
       "      <td>English</td>\n",
       "    </tr>\n",
       "    <tr>\n",
       "      <th>2</th>\n",
       "      <td>3</td>\n",
       "      <td>Devlin</td>\n",
       "      <td>Michael</td>\n",
       "      <td>1976-04-15 02:52:09.762</td>\n",
       "      <td>Male</td>\n",
       "      <td>White</td>\n",
       "      <td>English</td>\n",
       "    </tr>\n",
       "    <tr>\n",
       "      <th>3</th>\n",
       "      <td>4</td>\n",
       "      <td>Carmine</td>\n",
       "      <td>Texas</td>\n",
       "      <td>1968-10-15 03:32:13.635</td>\n",
       "      <td>Male</td>\n",
       "      <td>White</td>\n",
       "      <td>English</td>\n",
       "    </tr>\n",
       "    <tr>\n",
       "      <th>4</th>\n",
       "      <td>5</td>\n",
       "      <td>Tann</td>\n",
       "      <td>Bama</td>\n",
       "      <td>1962-05-01 19:12:58.950</td>\n",
       "      <td>Male</td>\n",
       "      <td>White</td>\n",
       "      <td>English</td>\n",
       "    </tr>\n",
       "    <tr>\n",
       "      <th>5</th>\n",
       "      <td>6</td>\n",
       "      <td>Jerrilyn</td>\n",
       "      <td>Kane</td>\n",
       "      <td>1969-03-30 09:36:56.550</td>\n",
       "      <td>Male</td>\n",
       "      <td>White</td>\n",
       "      <td>English</td>\n",
       "    </tr>\n",
       "    <tr>\n",
       "      <th>6</th>\n",
       "      <td>7</td>\n",
       "      <td>Skipton</td>\n",
       "      <td>Bar</td>\n",
       "      <td>1975-11-25 22:23:53.525</td>\n",
       "      <td>Male</td>\n",
       "      <td>White</td>\n",
       "      <td>English</td>\n",
       "    </tr>\n",
       "    <tr>\n",
       "      <th>7</th>\n",
       "      <td>8</td>\n",
       "      <td>Alexandra</td>\n",
       "      <td>Green</td>\n",
       "      <td>1967-06-16 16:37:21.694</td>\n",
       "      <td>Male</td>\n",
       "      <td>White</td>\n",
       "      <td>English</td>\n",
       "    </tr>\n",
       "    <tr>\n",
       "      <th>8</th>\n",
       "      <td>9</td>\n",
       "      <td>Devlin</td>\n",
       "      <td>Black</td>\n",
       "      <td>1974-09-24 23:43:46.185</td>\n",
       "      <td>Male</td>\n",
       "      <td>White</td>\n",
       "      <td>English</td>\n",
       "    </tr>\n",
       "    <tr>\n",
       "      <th>9</th>\n",
       "      <td>10</td>\n",
       "      <td>Granny</td>\n",
       "      <td>Man</td>\n",
       "      <td>1969-09-15 11:20:42.218</td>\n",
       "      <td>Male</td>\n",
       "      <td>White</td>\n",
       "      <td>English</td>\n",
       "    </tr>\n",
       "  </tbody>\n",
       "</table>\n",
       "</div>"
      ],
      "text/plain": [
       "   PatientID  FirstName LastName             DateOfBirth Gender   Race  \\\n",
       "0          1      Lanni      Sue 1960-01-01 00:00:00.000   Male  White   \n",
       "1          2        Far    Myers 1985-11-15 02:08:42.090   Male  White   \n",
       "2          3    Devlin   Michael 1976-04-15 02:52:09.762   Male  White   \n",
       "3          4    Carmine    Texas 1968-10-15 03:32:13.635   Male  White   \n",
       "4          5      Tann      Bama 1962-05-01 19:12:58.950   Male  White   \n",
       "5          6  Jerrilyn      Kane 1969-03-30 09:36:56.550   Male  White   \n",
       "6          7    Skipton      Bar 1975-11-25 22:23:53.525   Male  White   \n",
       "7          8  Alexandra    Green 1967-06-16 16:37:21.694   Male  White   \n",
       "8          9    Devlin     Black 1974-09-24 23:43:46.185   Male  White   \n",
       "9         10     Granny      Man 1969-09-15 11:20:42.218   Male  White   \n",
       "\n",
       "  Language  \n",
       "0  English  \n",
       "1  English  \n",
       "2  English  \n",
       "3  English  \n",
       "4  English  \n",
       "5  English  \n",
       "6  English  \n",
       "7  English  \n",
       "8  English  \n",
       "9  English  "
      ]
     },
     "execution_count": 4,
     "metadata": {},
     "output_type": "execute_result"
    }
   ],
   "source": [
    "data = pd.read_excel(\"C:\\\\Users\\\\saman\\\\OneDrive\\\\Desktop\\\\Python\\\\HospitalDatabase.xlsx\",\"Patients\")\n",
    "data.head(10)"
   ]
  },
  {
   "cell_type": "markdown",
   "id": "178bbb98",
   "metadata": {},
   "source": [
    "# Questions"
   ]
  },
  {
   "cell_type": "markdown",
   "id": "75b2b244",
   "metadata": {},
   "source": [
    "### 21) Which demographic patients are prone to get stroke?"
   ]
  },
  {
   "cell_type": "code",
   "execution_count": null,
   "id": "103609dc",
   "metadata": {},
   "outputs": [],
   "source": []
  },
  {
   "cell_type": "markdown",
   "id": "535e0ba9",
   "metadata": {},
   "source": [
    "### 22)Create a dataframe with acuity and EDDisposition as the indices and the count of number of patients as the value."
   ]
  },
  {
   "cell_type": "code",
   "execution_count": null,
   "id": "1ee3d311",
   "metadata": {},
   "outputs": [],
   "source": []
  },
  {
   "cell_type": "markdown",
   "id": "3837367a",
   "metadata": {},
   "source": [
    "### 23) Write a function to find the center element in the list. (one element in odd length list,  two elements in even length list)."
   ]
  },
  {
   "cell_type": "code",
   "execution_count": null,
   "id": "9bedc6d3",
   "metadata": {},
   "outputs": [],
   "source": []
  },
  {
   "cell_type": "markdown",
   "id": "f127f0e7",
   "metadata": {},
   "source": [
    "### 24) Get the number of patients based on ReasonForVisit and EDDisposition (use stack/unstack functions)."
   ]
  },
  {
   "cell_type": "code",
   "execution_count": null,
   "id": "ba3c0c51",
   "metadata": {},
   "outputs": [],
   "source": []
  },
  {
   "cell_type": "markdown",
   "id": "2ae877e7",
   "metadata": {},
   "source": [
    "### 25) Plot a graph by counting the no. of patients in each department."
   ]
  },
  {
   "cell_type": "code",
   "execution_count": null,
   "id": "5eccdc9c",
   "metadata": {},
   "outputs": [],
   "source": []
  },
  {
   "cell_type": "markdown",
   "id": "884d3053",
   "metadata": {},
   "source": [
    "### 26) Using arrays and loops, find the count of patients based on gender."
   ]
  },
  {
   "cell_type": "code",
   "execution_count": null,
   "id": "9bbeb286",
   "metadata": {},
   "outputs": [],
   "source": []
  },
  {
   "cell_type": "markdown",
   "id": "05c8d7b5",
   "metadata": {},
   "source": [
    "### 27)Plot a graph to count the patients based on discharge disposition."
   ]
  },
  {
   "cell_type": "code",
   "execution_count": null,
   "id": "a7767107",
   "metadata": {},
   "outputs": [],
   "source": []
  },
  {
   "cell_type": "markdown",
   "id": "c3967971",
   "metadata": {},
   "source": [
    "### 28)Which reason of visit has maximum mortality rate."
   ]
  },
  {
   "cell_type": "code",
   "execution_count": null,
   "id": "88640491",
   "metadata": {},
   "outputs": [],
   "source": []
  },
  {
   "cell_type": "markdown",
   "id": "df87a7bd",
   "metadata": {},
   "source": [
    "### 29)Calculate average LOS."
   ]
  },
  {
   "cell_type": "code",
   "execution_count": null,
   "id": "41543d9b",
   "metadata": {},
   "outputs": [],
   "source": []
  },
  {
   "cell_type": "markdown",
   "id": "07d8ed4d",
   "metadata": {},
   "source": [
    "### 30) Which patient id has most entries in readmission registry."
   ]
  },
  {
   "cell_type": "code",
   "execution_count": null,
   "id": "236a573b",
   "metadata": {},
   "outputs": [],
   "source": []
  },
  {
   "cell_type": "markdown",
   "id": "dee7b185",
   "metadata": {},
   "source": [
    "### 61) Plot a graph by multiplotting on the same canvas  (Take any set of x & y values)."
   ]
  },
  {
   "cell_type": "code",
   "execution_count": null,
   "id": "3555413e",
   "metadata": {},
   "outputs": [],
   "source": []
  },
  {
   "cell_type": "markdown",
   "id": "f04568bf",
   "metadata": {},
   "source": [
    "### 62) Display the data for all 'White Female' patients above the age of 50."
   ]
  },
  {
   "cell_type": "code",
   "execution_count": null,
   "id": "96d72c76",
   "metadata": {},
   "outputs": [],
   "source": []
  },
  {
   "cell_type": "markdown",
   "id": "f490568d",
   "metadata": {},
   "source": [
    "### 63) Using loc, retrieve the firstname and lastname of patients between indices 101 and 200."
   ]
  },
  {
   "cell_type": "code",
   "execution_count": null,
   "id": "0f79edb5",
   "metadata": {},
   "outputs": [],
   "source": []
  },
  {
   "cell_type": "markdown",
   "id": "686a6b7f",
   "metadata": {},
   "source": [
    "### 64)Using numpy functions, multiply the following arrays"
   ]
  },
  {
   "cell_type": "code",
   "execution_count": 24,
   "id": "37cbb7f2",
   "metadata": {},
   "outputs": [
    {
     "data": {
      "text/plain": [
       "array([[10, 13],\n",
       "       [28, 40]])"
      ]
     },
     "execution_count": 24,
     "metadata": {},
     "output_type": "execute_result"
    }
   ],
   "source": [
    "a=np.arange(6).reshape(2,3)\n",
    "b=np.arange(6).reshape(3,2)\n",
    "\n",
    "#a @ b \n",
    "\n",
    "output = np.matmul(a,b)\n",
    "output"
   ]
  },
  {
   "cell_type": "markdown",
   "id": "fcbcbeef",
   "metadata": {},
   "source": [
    "### 65) Get the  number of patients based on service and primary diagnosis."
   ]
  },
  {
   "cell_type": "code",
   "execution_count": null,
   "id": "23ade514",
   "metadata": {},
   "outputs": [],
   "source": []
  },
  {
   "cell_type": "markdown",
   "id": "193038f4",
   "metadata": {},
   "source": [
    "### 66) np.arange(1,31).reshape(6,5), find array slicing to get the elements 4,5,24,25,29,30."
   ]
  },
  {
   "cell_type": "code",
   "execution_count": null,
   "id": "ea02163e",
   "metadata": {},
   "outputs": [],
   "source": []
  },
  {
   "cell_type": "markdown",
   "id": "7469de11",
   "metadata": {},
   "source": [
    "### 67) Make a pivot table by the no. of patients from the admission date till discharge date."
   ]
  },
  {
   "cell_type": "code",
   "execution_count": 5,
   "id": "4bb18f4e",
   "metadata": {},
   "outputs": [
    {
     "data": {
      "text/html": [
       "<div>\n",
       "<style scoped>\n",
       "    .dataframe tbody tr th:only-of-type {\n",
       "        vertical-align: middle;\n",
       "    }\n",
       "\n",
       "    .dataframe tbody tr th {\n",
       "        vertical-align: top;\n",
       "    }\n",
       "\n",
       "    .dataframe thead th {\n",
       "        text-align: right;\n",
       "    }\n",
       "</style>\n",
       "<table border=\"1\" class=\"dataframe\">\n",
       "  <thead>\n",
       "    <tr style=\"text-align: right;\">\n",
       "      <th></th>\n",
       "      <th>AdmissionDate</th>\n",
       "      <th>DischargeDate</th>\n",
       "    </tr>\n",
       "    <tr>\n",
       "      <th>PatientID</th>\n",
       "      <th></th>\n",
       "      <th></th>\n",
       "    </tr>\n",
       "  </thead>\n",
       "  <tbody>\n",
       "    <tr>\n",
       "      <th>1</th>\n",
       "      <td>2018-01-01</td>\n",
       "      <td>2018-01-04 19:59:31.391000064</td>\n",
       "    </tr>\n",
       "    <tr>\n",
       "      <th>2</th>\n",
       "      <td>2018-01-01</td>\n",
       "      <td>2018-01-04 21:28:51.897999872</td>\n",
       "    </tr>\n",
       "    <tr>\n",
       "      <th>3</th>\n",
       "      <td>2018-01-01</td>\n",
       "      <td>2018-01-04 22:28:23.672000000</td>\n",
       "    </tr>\n",
       "    <tr>\n",
       "      <th>5</th>\n",
       "      <td>2018-01-01</td>\n",
       "      <td>2018-01-05 05:47:04.932999936</td>\n",
       "    </tr>\n",
       "    <tr>\n",
       "      <th>6</th>\n",
       "      <td>2018-01-01</td>\n",
       "      <td>2018-01-05 14:18:30.028999936</td>\n",
       "    </tr>\n",
       "    <tr>\n",
       "      <th>...</th>\n",
       "      <td>...</td>\n",
       "      <td>...</td>\n",
       "    </tr>\n",
       "    <tr>\n",
       "      <th>738</th>\n",
       "      <td>2018-02-22</td>\n",
       "      <td>2018-03-07 21:22:10.060999936</td>\n",
       "    </tr>\n",
       "    <tr>\n",
       "      <th>739</th>\n",
       "      <td>2018-02-22</td>\n",
       "      <td>2018-03-08 02:43:18.748999936</td>\n",
       "    </tr>\n",
       "    <tr>\n",
       "      <th>740</th>\n",
       "      <td>2018-02-22</td>\n",
       "      <td>2018-03-08 09:27:18.376999936</td>\n",
       "    </tr>\n",
       "    <tr>\n",
       "      <th>741</th>\n",
       "      <td>2018-02-22</td>\n",
       "      <td>2018-03-10 06:06:12.068000000</td>\n",
       "    </tr>\n",
       "    <tr>\n",
       "      <th>742</th>\n",
       "      <td>2018-02-22</td>\n",
       "      <td>2018-03-10 20:38:30.568000000</td>\n",
       "    </tr>\n",
       "  </tbody>\n",
       "</table>\n",
       "<p>704 rows × 2 columns</p>\n",
       "</div>"
      ],
      "text/plain": [
       "          AdmissionDate                 DischargeDate\n",
       "PatientID                                            \n",
       "1            2018-01-01 2018-01-04 19:59:31.391000064\n",
       "2            2018-01-01 2018-01-04 21:28:51.897999872\n",
       "3            2018-01-01 2018-01-04 22:28:23.672000000\n",
       "5            2018-01-01 2018-01-05 05:47:04.932999936\n",
       "6            2018-01-01 2018-01-05 14:18:30.028999936\n",
       "...                 ...                           ...\n",
       "738          2018-02-22 2018-03-07 21:22:10.060999936\n",
       "739          2018-02-22 2018-03-08 02:43:18.748999936\n",
       "740          2018-02-22 2018-03-08 09:27:18.376999936\n",
       "741          2018-02-22 2018-03-10 06:06:12.068000000\n",
       "742          2018-02-22 2018-03-10 20:38:30.568000000\n",
       "\n",
       "[704 rows x 2 columns]"
      ]
     },
     "execution_count": 5,
     "metadata": {},
     "output_type": "execute_result"
    }
   ],
   "source": [
    "df = pd.read_excel(\"C:\\\\Users\\\\saman\\\\OneDrive\\\\Desktop\\\\Python\\\\HospitalDatabase.xlsx\",\"ReAdmissionRegistry\")\n",
    "\n",
    "pivot = pd.pivot_table (df, index = 'PatientID', values = ['AdmissionDate','DischargeDate'])\n",
    "pivot"
   ]
  },
  {
   "cell_type": "markdown",
   "id": "c30309b8",
   "metadata": {},
   "source": [
    "### 68) Display the data where actual LOS is greater than expected LOS."
   ]
  },
  {
   "cell_type": "code",
   "execution_count": 7,
   "id": "6267694d",
   "metadata": {},
   "outputs": [
    {
     "data": {
      "text/html": [
       "<div>\n",
       "<style scoped>\n",
       "    .dataframe tbody tr th:only-of-type {\n",
       "        vertical-align: middle;\n",
       "    }\n",
       "\n",
       "    .dataframe tbody tr th {\n",
       "        vertical-align: top;\n",
       "    }\n",
       "\n",
       "    .dataframe thead th {\n",
       "        text-align: right;\n",
       "    }\n",
       "</style>\n",
       "<table border=\"1\" class=\"dataframe\">\n",
       "  <thead>\n",
       "    <tr style=\"text-align: right;\">\n",
       "      <th></th>\n",
       "      <th>AdmissionID</th>\n",
       "      <th>PatientID</th>\n",
       "      <th>AdmissionDate</th>\n",
       "      <th>DischargeDate</th>\n",
       "      <th>DischargeDisposition</th>\n",
       "      <th>Service</th>\n",
       "      <th>PrimaryDiagnosis</th>\n",
       "      <th>ExpectedLOS</th>\n",
       "      <th>ExpectedMortality</th>\n",
       "      <th>ActualLOS</th>\n",
       "    </tr>\n",
       "  </thead>\n",
       "  <tbody>\n",
       "    <tr>\n",
       "      <th>1</th>\n",
       "      <td>257</td>\n",
       "      <td>93</td>\n",
       "      <td>2018-01-06</td>\n",
       "      <td>2018-01-18 02:59:04.667</td>\n",
       "      <td>Expired</td>\n",
       "      <td>Cardiology</td>\n",
       "      <td>Broken Leg</td>\n",
       "      <td>6.816558</td>\n",
       "      <td>0.628827</td>\n",
       "      <td>12</td>\n",
       "    </tr>\n",
       "    <tr>\n",
       "      <th>4</th>\n",
       "      <td>258</td>\n",
       "      <td>103</td>\n",
       "      <td>2018-01-07</td>\n",
       "      <td>2018-01-15 13:32:36.157</td>\n",
       "      <td>Expired</td>\n",
       "      <td>Cardiology</td>\n",
       "      <td>Broken Leg</td>\n",
       "      <td>2.639297</td>\n",
       "      <td>0.055468</td>\n",
       "      <td>8</td>\n",
       "    </tr>\n",
       "    <tr>\n",
       "      <th>5</th>\n",
       "      <td>395</td>\n",
       "      <td>109</td>\n",
       "      <td>2018-01-07</td>\n",
       "      <td>2018-01-22 17:57:37.103</td>\n",
       "      <td>Expired</td>\n",
       "      <td>Cardiology</td>\n",
       "      <td>Flu</td>\n",
       "      <td>2.981758</td>\n",
       "      <td>0.192976</td>\n",
       "      <td>15</td>\n",
       "    </tr>\n",
       "    <tr>\n",
       "      <th>6</th>\n",
       "      <td>396</td>\n",
       "      <td>115</td>\n",
       "      <td>2018-01-08</td>\n",
       "      <td>2018-01-17 02:19:05.623</td>\n",
       "      <td>Expired</td>\n",
       "      <td>Cardiology</td>\n",
       "      <td>Flu</td>\n",
       "      <td>4.959098</td>\n",
       "      <td>0.254923</td>\n",
       "      <td>9</td>\n",
       "    </tr>\n",
       "    <tr>\n",
       "      <th>7</th>\n",
       "      <td>259</td>\n",
       "      <td>116</td>\n",
       "      <td>2018-01-08</td>\n",
       "      <td>2018-01-20 03:40:53.605</td>\n",
       "      <td>Expired</td>\n",
       "      <td>Cardiology</td>\n",
       "      <td>Broken Leg</td>\n",
       "      <td>2.279624</td>\n",
       "      <td>0.491274</td>\n",
       "      <td>12</td>\n",
       "    </tr>\n",
       "    <tr>\n",
       "      <th>...</th>\n",
       "      <td>...</td>\n",
       "      <td>...</td>\n",
       "      <td>...</td>\n",
       "      <td>...</td>\n",
       "      <td>...</td>\n",
       "      <td>...</td>\n",
       "      <td>...</td>\n",
       "      <td>...</td>\n",
       "      <td>...</td>\n",
       "      <td>...</td>\n",
       "    </tr>\n",
       "    <tr>\n",
       "      <th>712</th>\n",
       "      <td>703</td>\n",
       "      <td>703</td>\n",
       "      <td>2018-02-21</td>\n",
       "      <td>2018-02-27 08:53:38.211</td>\n",
       "      <td>Transfer</td>\n",
       "      <td>General Medicine</td>\n",
       "      <td>Pneumonia</td>\n",
       "      <td>3.539165</td>\n",
       "      <td>0.275691</td>\n",
       "      <td>6</td>\n",
       "    </tr>\n",
       "    <tr>\n",
       "      <th>713</th>\n",
       "      <td>709</td>\n",
       "      <td>708</td>\n",
       "      <td>2018-02-21</td>\n",
       "      <td>2018-03-01 05:59:22.116</td>\n",
       "      <td>Transfer</td>\n",
       "      <td>General Medicine</td>\n",
       "      <td>Diabetes</td>\n",
       "      <td>4.518876</td>\n",
       "      <td>0.455570</td>\n",
       "      <td>8</td>\n",
       "    </tr>\n",
       "    <tr>\n",
       "      <th>714</th>\n",
       "      <td>697</td>\n",
       "      <td>713</td>\n",
       "      <td>2018-02-21</td>\n",
       "      <td>2018-03-04 00:23:19.967</td>\n",
       "      <td>Transfer</td>\n",
       "      <td>General Medicine</td>\n",
       "      <td>Pneumonia</td>\n",
       "      <td>8.542970</td>\n",
       "      <td>0.201036</td>\n",
       "      <td>11</td>\n",
       "    </tr>\n",
       "    <tr>\n",
       "      <th>715</th>\n",
       "      <td>715</td>\n",
       "      <td>716</td>\n",
       "      <td>2018-02-21</td>\n",
       "      <td>2018-03-06 03:31:05.262</td>\n",
       "      <td>Transfer</td>\n",
       "      <td>ICU</td>\n",
       "      <td>Heart Failure</td>\n",
       "      <td>11.362095</td>\n",
       "      <td>0.370695</td>\n",
       "      <td>13</td>\n",
       "    </tr>\n",
       "    <tr>\n",
       "      <th>719</th>\n",
       "      <td>710</td>\n",
       "      <td>742</td>\n",
       "      <td>2018-02-22</td>\n",
       "      <td>2018-03-10 20:38:30.568</td>\n",
       "      <td>Transfer</td>\n",
       "      <td>General Medicine</td>\n",
       "      <td>Diabetes</td>\n",
       "      <td>7.195441</td>\n",
       "      <td>0.286439</td>\n",
       "      <td>16</td>\n",
       "    </tr>\n",
       "  </tbody>\n",
       "</table>\n",
       "<p>397 rows × 10 columns</p>\n",
       "</div>"
      ],
      "text/plain": [
       "     AdmissionID  PatientID AdmissionDate           DischargeDate  \\\n",
       "1            257         93    2018-01-06 2018-01-18 02:59:04.667   \n",
       "4            258        103    2018-01-07 2018-01-15 13:32:36.157   \n",
       "5            395        109    2018-01-07 2018-01-22 17:57:37.103   \n",
       "6            396        115    2018-01-08 2018-01-17 02:19:05.623   \n",
       "7            259        116    2018-01-08 2018-01-20 03:40:53.605   \n",
       "..           ...        ...           ...                     ...   \n",
       "712          703        703    2018-02-21 2018-02-27 08:53:38.211   \n",
       "713          709        708    2018-02-21 2018-03-01 05:59:22.116   \n",
       "714          697        713    2018-02-21 2018-03-04 00:23:19.967   \n",
       "715          715        716    2018-02-21 2018-03-06 03:31:05.262   \n",
       "719          710        742    2018-02-22 2018-03-10 20:38:30.568   \n",
       "\n",
       "    DischargeDisposition           Service PrimaryDiagnosis  ExpectedLOS  \\\n",
       "1                Expired        Cardiology       Broken Leg     6.816558   \n",
       "4                Expired        Cardiology       Broken Leg     2.639297   \n",
       "5                Expired        Cardiology              Flu     2.981758   \n",
       "6                Expired        Cardiology              Flu     4.959098   \n",
       "7                Expired        Cardiology       Broken Leg     2.279624   \n",
       "..                   ...               ...              ...          ...   \n",
       "712             Transfer  General Medicine        Pneumonia     3.539165   \n",
       "713             Transfer  General Medicine         Diabetes     4.518876   \n",
       "714             Transfer  General Medicine        Pneumonia     8.542970   \n",
       "715             Transfer               ICU    Heart Failure    11.362095   \n",
       "719             Transfer  General Medicine         Diabetes     7.195441   \n",
       "\n",
       "     ExpectedMortality  ActualLOS  \n",
       "1             0.628827         12  \n",
       "4             0.055468          8  \n",
       "5             0.192976         15  \n",
       "6             0.254923          9  \n",
       "7             0.491274         12  \n",
       "..                 ...        ...  \n",
       "712           0.275691          6  \n",
       "713           0.455570          8  \n",
       "714           0.201036         11  \n",
       "715           0.370695         13  \n",
       "719           0.286439         16  \n",
       "\n",
       "[397 rows x 10 columns]"
      ]
     },
     "execution_count": 7,
     "metadata": {},
     "output_type": "execute_result"
    }
   ],
   "source": [
    "df = pd.read_excel(\"C:\\\\Users\\\\saman\\\\OneDrive\\\\Desktop\\\\Python\\\\HospitalDatabase.xlsx\",\"Discharges\")\n",
    "\n",
    "df['DischargeDate'] = pd.to_datetime(df['DischargeDate'])\n",
    "df['AdmissionDate'] = pd.to_datetime(df['AdmissionDate'])\n",
    "\n",
    "df['ActualLOS'] = (df['DischargeDate'] - df['AdmissionDate']).dt.days\n",
    "\n",
    "filter_df = df[df['ActualLOS'] > df['ExpectedLOS']]\n",
    "\n",
    "filter_df"
   ]
  },
  {
   "cell_type": "markdown",
   "id": "319cac1d",
   "metadata": {},
   "source": [
    "### 69) Details of the patients whose firstname or lastname contains string \"lau\" , should be case insensitive."
   ]
  },
  {
   "cell_type": "code",
   "execution_count": null,
   "id": "bc5a2158",
   "metadata": {},
   "outputs": [],
   "source": []
  },
  {
   "cell_type": "markdown",
   "id": "eb3ca32b",
   "metadata": {},
   "source": [
    "### 70) Plot a graph to show the distribution of expected mortality."
   ]
  },
  {
   "cell_type": "code",
   "execution_count": null,
   "id": "c1407735",
   "metadata": {},
   "outputs": [],
   "source": []
  }
 ],
 "metadata": {
  "kernelspec": {
   "display_name": "Python 3 (ipykernel)",
   "language": "python",
   "name": "python3"
  },
  "language_info": {
   "codemirror_mode": {
    "name": "ipython",
    "version": 3
   },
   "file_extension": ".py",
   "mimetype": "text/x-python",
   "name": "python",
   "nbconvert_exporter": "python",
   "pygments_lexer": "ipython3",
   "version": "3.9.13"
  }
 },
 "nbformat": 4,
 "nbformat_minor": 5
}
