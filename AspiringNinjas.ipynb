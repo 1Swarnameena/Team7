{
 "cells": [
  {
   "cell_type": "code",
   "execution_count": 2,
   "id": "86e2d368",
   "metadata": {},
   "outputs": [],
   "source": [
    "import seaborn as sns\n",
    "import pandas as pd\n",
    "import numpy as np\n",
    "import matplotlib.pyplot as plt\n",
    "import datetime"
   ]
  },
  {
   "cell_type": "code",
   "execution_count": 4,
   "id": "e5ffee83",
   "metadata": {},
   "outputs": [
    {
     "data": {
      "text/html": [
       "<div>\n",
       "<style scoped>\n",
       "    .dataframe tbody tr th:only-of-type {\n",
       "        vertical-align: middle;\n",
       "    }\n",
       "\n",
       "    .dataframe tbody tr th {\n",
       "        vertical-align: top;\n",
       "    }\n",
       "\n",
       "    .dataframe thead th {\n",
       "        text-align: right;\n",
       "    }\n",
       "</style>\n",
       "<table border=\"1\" class=\"dataframe\">\n",
       "  <thead>\n",
       "    <tr style=\"text-align: right;\">\n",
       "      <th></th>\n",
       "      <th>PatientID</th>\n",
       "      <th>FirstName</th>\n",
       "      <th>LastName</th>\n",
       "      <th>DateOfBirth</th>\n",
       "      <th>Gender</th>\n",
       "      <th>Race</th>\n",
       "      <th>Language</th>\n",
       "    </tr>\n",
       "  </thead>\n",
       "  <tbody>\n",
       "    <tr>\n",
       "      <th>0</th>\n",
       "      <td>1</td>\n",
       "      <td>Lanni</td>\n",
       "      <td>Sue</td>\n",
       "      <td>1960-01-01 00:00:00.000</td>\n",
       "      <td>Male</td>\n",
       "      <td>White</td>\n",
       "      <td>English</td>\n",
       "    </tr>\n",
       "    <tr>\n",
       "      <th>1</th>\n",
       "      <td>2</td>\n",
       "      <td>Far</td>\n",
       "      <td>Myers</td>\n",
       "      <td>1985-11-15 02:08:42.090</td>\n",
       "      <td>Male</td>\n",
       "      <td>White</td>\n",
       "      <td>English</td>\n",
       "    </tr>\n",
       "    <tr>\n",
       "      <th>2</th>\n",
       "      <td>3</td>\n",
       "      <td>Devlin</td>\n",
       "      <td>Michael</td>\n",
       "      <td>1976-04-15 02:52:09.762</td>\n",
       "      <td>Male</td>\n",
       "      <td>White</td>\n",
       "      <td>English</td>\n",
       "    </tr>\n",
       "    <tr>\n",
       "      <th>3</th>\n",
       "      <td>4</td>\n",
       "      <td>Carmine</td>\n",
       "      <td>Texas</td>\n",
       "      <td>1968-10-15 03:32:13.635</td>\n",
       "      <td>Male</td>\n",
       "      <td>White</td>\n",
       "      <td>English</td>\n",
       "    </tr>\n",
       "    <tr>\n",
       "      <th>4</th>\n",
       "      <td>5</td>\n",
       "      <td>Tann</td>\n",
       "      <td>Bama</td>\n",
       "      <td>1962-05-01 19:12:58.950</td>\n",
       "      <td>Male</td>\n",
       "      <td>White</td>\n",
       "      <td>English</td>\n",
       "    </tr>\n",
       "    <tr>\n",
       "      <th>5</th>\n",
       "      <td>6</td>\n",
       "      <td>Jerrilyn</td>\n",
       "      <td>Kane</td>\n",
       "      <td>1969-03-30 09:36:56.550</td>\n",
       "      <td>Male</td>\n",
       "      <td>White</td>\n",
       "      <td>English</td>\n",
       "    </tr>\n",
       "    <tr>\n",
       "      <th>6</th>\n",
       "      <td>7</td>\n",
       "      <td>Skipton</td>\n",
       "      <td>Bar</td>\n",
       "      <td>1975-11-25 22:23:53.525</td>\n",
       "      <td>Male</td>\n",
       "      <td>White</td>\n",
       "      <td>English</td>\n",
       "    </tr>\n",
       "    <tr>\n",
       "      <th>7</th>\n",
       "      <td>8</td>\n",
       "      <td>Alexandra</td>\n",
       "      <td>Green</td>\n",
       "      <td>1967-06-16 16:37:21.694</td>\n",
       "      <td>Male</td>\n",
       "      <td>White</td>\n",
       "      <td>English</td>\n",
       "    </tr>\n",
       "    <tr>\n",
       "      <th>8</th>\n",
       "      <td>9</td>\n",
       "      <td>Devlin</td>\n",
       "      <td>Black</td>\n",
       "      <td>1974-09-24 23:43:46.185</td>\n",
       "      <td>Male</td>\n",
       "      <td>White</td>\n",
       "      <td>English</td>\n",
       "    </tr>\n",
       "    <tr>\n",
       "      <th>9</th>\n",
       "      <td>10</td>\n",
       "      <td>Granny</td>\n",
       "      <td>Man</td>\n",
       "      <td>1969-09-15 11:20:42.218</td>\n",
       "      <td>Male</td>\n",
       "      <td>White</td>\n",
       "      <td>English</td>\n",
       "    </tr>\n",
       "  </tbody>\n",
       "</table>\n",
       "</div>"
      ],
      "text/plain": [
       "   PatientID  FirstName LastName             DateOfBirth Gender   Race  \\\n",
       "0          1      Lanni      Sue 1960-01-01 00:00:00.000   Male  White   \n",
       "1          2        Far    Myers 1985-11-15 02:08:42.090   Male  White   \n",
       "2          3    Devlin   Michael 1976-04-15 02:52:09.762   Male  White   \n",
       "3          4    Carmine    Texas 1968-10-15 03:32:13.635   Male  White   \n",
       "4          5      Tann      Bama 1962-05-01 19:12:58.950   Male  White   \n",
       "5          6  Jerrilyn      Kane 1969-03-30 09:36:56.550   Male  White   \n",
       "6          7    Skipton      Bar 1975-11-25 22:23:53.525   Male  White   \n",
       "7          8  Alexandra    Green 1967-06-16 16:37:21.694   Male  White   \n",
       "8          9    Devlin     Black 1974-09-24 23:43:46.185   Male  White   \n",
       "9         10     Granny      Man 1969-09-15 11:20:42.218   Male  White   \n",
       "\n",
       "  Language  \n",
       "0  English  \n",
       "1  English  \n",
       "2  English  \n",
       "3  English  \n",
       "4  English  \n",
       "5  English  \n",
       "6  English  \n",
       "7  English  \n",
       "8  English  \n",
       "9  English  "
      ]
     },
     "execution_count": 4,
     "metadata": {},
     "output_type": "execute_result"
    }
   ],
   "source": [
    "data = pd.read_excel(\"C:\\\\Users\\\\saman\\\\OneDrive\\\\Desktop\\\\Python\\\\HospitalDatabase.xlsx\",\"Patients\")\n",
    "data.head(10)"
   ]
  },
  {
   "cell_type": "markdown",
   "id": "178bbb98",
   "metadata": {},
   "source": [
    "# Questions"
   ]
  },
  {
   "cell_type": "markdown",
   "id": "75b2b244",
   "metadata": {},
   "source": [
    "### 21) Which demographic patients are prone to get stroke?"
   ]
  },
  {
   "cell_type": "code",
   "execution_count": null,
   "id": "103609dc",
   "metadata": {},
   "outputs": [],
   "source": []
  },
  {
   "cell_type": "markdown",
   "id": "535e0ba9",
   "metadata": {},
   "source": [
    "### 22)Create a dataframe with acuity and EDDisposition as the indices and the count of number of patients as the value."
   ]
  },
  {
   "cell_type": "code",
   "execution_count": null,
   "id": "1ee3d311",
   "metadata": {},
   "outputs": [],
   "source": []
  },
  {
   "cell_type": "markdown",
   "id": "3837367a",
   "metadata": {},
   "source": [
    "### 23) Write a function to find the center element in the list. (one element in odd length list,  two elements in even length list)."
   ]
  },
  {
   "cell_type": "code",
   "execution_count": null,
   "id": "9bedc6d3",
   "metadata": {},
   "outputs": [],
   "source": []
  },
  {
   "cell_type": "markdown",
   "id": "f127f0e7",
   "metadata": {},
   "source": [
    "### 24) Get the number of patients based on ReasonForVisit and EDDisposition (use stack/unstack functions)."
   ]
  },
  {
   "cell_type": "code",
   "execution_count": null,
   "id": "ba3c0c51",
   "metadata": {},
   "outputs": [],
   "source": []
  },
  {
   "cell_type": "markdown",
   "id": "2ae877e7",
   "metadata": {},
   "source": [
    "### 25) Plot a graph by counting the no. of patients in each department."
   ]
  },
  {
   "cell_type": "code",
   "execution_count": null,
   "id": "5eccdc9c",
   "metadata": {},
   "outputs": [],
   "source": []
  },
  {
   "cell_type": "markdown",
   "id": "884d3053",
   "metadata": {},
   "source": [
    "### 26) Using arrays and loops, find the count of patients based on gender."
   ]
  },
  {
   "cell_type": "code",
   "execution_count": null,
   "id": "9bbeb286",
   "metadata": {},
   "outputs": [],
   "source": []
  },
  {
   "cell_type": "markdown",
   "id": "05c8d7b5",
   "metadata": {},
   "source": [
    "### 27)Plot a graph to count the patients based on discharge disposition."
   ]
  },
  {
   "cell_type": "code",
   "execution_count": null,
   "id": "a7767107",
   "metadata": {},
   "outputs": [],
   "source": []
  },
  {
   "cell_type": "markdown",
   "id": "c3967971",
   "metadata": {},
   "source": [
    "### 28)Which reason of visit has maximum mortality rate."
   ]
  },
  {
   "cell_type": "code",
   "execution_count": null,
   "id": "88640491",
   "metadata": {},
   "outputs": [],
   "source": []
  },
  {
   "cell_type": "markdown",
   "id": "df87a7bd",
   "metadata": {},
   "source": [
    "### 29)Calculate average LOS."
   ]
  },
  {
   "cell_type": "code",
   "execution_count": null,
   "id": "41543d9b",
   "metadata": {},
   "outputs": [],
   "source": []
  },
  {
   "cell_type": "markdown",
   "id": "07d8ed4d",
   "metadata": {},
   "source": [
    "### 30) Which patient id has most entries in readmission registry."
   ]
  },
  {
   "cell_type": "code",
   "execution_count": null,
   "id": "236a573b",
   "metadata": {},
   "outputs": [],
   "source": []
  },
  {
   "cell_type": "markdown",
   "id": "dee7b185",
   "metadata": {},
   "source": [
    "### 61) Plot a graph by multiplotting on the same canvas  (Take any set of x & y values)."
   ]
  },
  {
   "cell_type": "code",
   "execution_count": null,
   "id": "3555413e",
   "metadata": {},
   "outputs": [],
   "source": []
  },
  {
   "cell_type": "markdown",
   "id": "f04568bf",
   "metadata": {},
   "source": [
    "### 62) Display the data for all 'White Female' patients above the age of 50."
   ]
  },
  {
   "cell_type": "code",
   "execution_count": null,
   "id": "96d72c76",
   "metadata": {},
   "outputs": [],
   "source": []
  },
  {
   "cell_type": "markdown",
   "id": "f490568d",
   "metadata": {},
   "source": [
    "### 63) Using loc, retrieve the firstname and lastname of patients between indices 101 and 200."
   ]
  },
  {
   "cell_type": "code",
   "execution_count": null,
   "id": "0f79edb5",
   "metadata": {},
   "outputs": [],
   "source": []
  },
  {
   "cell_type": "markdown",
   "id": "686a6b7f",
   "metadata": {},
   "source": [
    "### 64)Using numpy functions, multiply the following arrays"
   ]
  },
  {
   "cell_type": "code",
   "execution_count": 24,
   "id": "37cbb7f2",
   "metadata": {},
   "outputs": [
    {
     "data": {
      "text/plain": [
       "array([[10, 13],\n",
       "       [28, 40]])"
      ]
     },
     "execution_count": 24,
     "metadata": {},
     "output_type": "execute_result"
    }
   ],
   "source": [
    "a=np.arange(6).reshape(2,3)\n",
    "b=np.arange(6).reshape(3,2)\n",
    "\n",
    "#a @ b \n",
    "\n",
    "output = np.matmul(a,b)\n",
    "output"
   ]
  },
  {
   "cell_type": "markdown",
   "id": "fcbcbeef",
   "metadata": {},
   "source": [
    "### 65) Get the  number of patients based on service and primary diagnosis."
   ]
  },
  {
   "cell_type": "code",
   "execution_count": null,
   "id": "23ade514",
   "metadata": {},
   "outputs": [],
   "source": []
  },
  {
   "cell_type": "markdown",
   "id": "193038f4",
   "metadata": {},
   "source": [
    "### 66) np.arange(1,31).reshape(6,5), find array slicing to get the elements 4,5,24,25,29,30."
   ]
  },
  {
   "cell_type": "code",
   "execution_count": null,
   "id": "ea02163e",
   "metadata": {},
   "outputs": [],
   "source": []
  },
  {
   "cell_type": "markdown",
   "id": "7469de11",
   "metadata": {},
   "source": [
    "### 67) Make a pivot table by the no. of patients from the admission date till discharge date."
   ]
  },
  {
   "cell_type": "code",
   "execution_count": 5,
   "id": "4bb18f4e",
   "metadata": {},
   "outputs": [
    {
     "data": {
      "text/html": [
       "<div>\n",
       "<style scoped>\n",
       "    .dataframe tbody tr th:only-of-type {\n",
       "        vertical-align: middle;\n",
       "    }\n",
       "\n",
       "    .dataframe tbody tr th {\n",
       "        vertical-align: top;\n",
       "    }\n",
       "\n",
       "    .dataframe thead th {\n",
       "        text-align: right;\n",
       "    }\n",
       "</style>\n",
       "<table border=\"1\" class=\"dataframe\">\n",
       "  <thead>\n",
       "    <tr style=\"text-align: right;\">\n",
       "      <th></th>\n",
       "      <th>AdmissionDate</th>\n",
       "      <th>DischargeDate</th>\n",
       "    </tr>\n",
       "    <tr>\n",
       "      <th>PatientID</th>\n",
       "      <th></th>\n",
       "      <th></th>\n",
       "    </tr>\n",
       "  </thead>\n",
       "  <tbody>\n",
       "    <tr>\n",
       "      <th>1</th>\n",
       "      <td>2018-01-01</td>\n",
       "      <td>2018-01-04 19:59:31.391000064</td>\n",
       "    </tr>\n",
       "    <tr>\n",
       "      <th>2</th>\n",
       "      <td>2018-01-01</td>\n",
       "      <td>2018-01-04 21:28:51.897999872</td>\n",
       "    </tr>\n",
       "    <tr>\n",
       "      <th>3</th>\n",
       "      <td>2018-01-01</td>\n",
       "      <td>2018-01-04 22:28:23.672000000</td>\n",
       "    </tr>\n",
       "    <tr>\n",
       "      <th>5</th>\n",
       "      <td>2018-01-01</td>\n",
       "      <td>2018-01-05 05:47:04.932999936</td>\n",
       "    </tr>\n",
       "    <tr>\n",
       "      <th>6</th>\n",
       "      <td>2018-01-01</td>\n",
       "      <td>2018-01-05 14:18:30.028999936</td>\n",
       "    </tr>\n",
       "    <tr>\n",
       "      <th>...</th>\n",
       "      <td>...</td>\n",
       "      <td>...</td>\n",
       "    </tr>\n",
       "    <tr>\n",
       "      <th>738</th>\n",
       "      <td>2018-02-22</td>\n",
       "      <td>2018-03-07 21:22:10.060999936</td>\n",
       "    </tr>\n",
       "    <tr>\n",
       "      <th>739</th>\n",
       "      <td>2018-02-22</td>\n",
       "      <td>2018-03-08 02:43:18.748999936</td>\n",
       "    </tr>\n",
       "    <tr>\n",
       "      <th>740</th>\n",
       "      <td>2018-02-22</td>\n",
       "      <td>2018-03-08 09:27:18.376999936</td>\n",
       "    </tr>\n",
       "    <tr>\n",
       "      <th>741</th>\n",
       "      <td>2018-02-22</td>\n",
       "      <td>2018-03-10 06:06:12.068000000</td>\n",
       "    </tr>\n",
       "    <tr>\n",
       "      <th>742</th>\n",
       "      <td>2018-02-22</td>\n",
       "      <td>2018-03-10 20:38:30.568000000</td>\n",
       "    </tr>\n",
       "  </tbody>\n",
       "</table>\n",
       "<p>704 rows × 2 columns</p>\n",
       "</div>"
      ],
      "text/plain": [
       "          AdmissionDate                 DischargeDate\n",
       "PatientID                                            \n",
       "1            2018-01-01 2018-01-04 19:59:31.391000064\n",
       "2            2018-01-01 2018-01-04 21:28:51.897999872\n",
       "3            2018-01-01 2018-01-04 22:28:23.672000000\n",
       "5            2018-01-01 2018-01-05 05:47:04.932999936\n",
       "6            2018-01-01 2018-01-05 14:18:30.028999936\n",
       "...                 ...                           ...\n",
       "738          2018-02-22 2018-03-07 21:22:10.060999936\n",
       "739          2018-02-22 2018-03-08 02:43:18.748999936\n",
       "740          2018-02-22 2018-03-08 09:27:18.376999936\n",
       "741          2018-02-22 2018-03-10 06:06:12.068000000\n",
       "742          2018-02-22 2018-03-10 20:38:30.568000000\n",
       "\n",
       "[704 rows x 2 columns]"
      ]
     },
     "execution_count": 5,
     "metadata": {},
     "output_type": "execute_result"
    }
   ],
   "source": [
    "df = pd.read_excel(\"C:\\\\Users\\\\saman\\\\OneDrive\\\\Desktop\\\\Python\\\\HospitalDatabase.xlsx\",\"ReAdmissionRegistry\")\n",
    "\n",
    "pivot = pd.pivot_table (df, index = 'PatientID', values = ['AdmissionDate','DischargeDate'])\n",
    "pivot"
   ]
  },
  {
   "cell_type": "markdown",
   "id": "c30309b8",
   "metadata": {},
   "source": [
    "### 68) Display the data where actual LOS is greater than expected LOS."
   ]
  },
  {
   "cell_type": "code",
   "execution_count": null,
   "id": "6267694d",
   "metadata": {},
   "outputs": [],
   "source": []
  },
  {
   "cell_type": "markdown",
   "id": "319cac1d",
   "metadata": {},
   "source": [
    "### 69) Details of the patients whose firstname or lastname contains string \"lau\" , should be case insensitive."
   ]
  },
  {
   "cell_type": "code",
   "execution_count": null,
   "id": "bc5a2158",
   "metadata": {},
   "outputs": [],
   "source": []
  },
  {
   "cell_type": "markdown",
   "id": "e5585c20",
   "metadata": {},
   "source": [
    "### 70) Plot a graph to show the distribution of expected mortality."
   ]
  },
  {
   "cell_type": "code",
   "execution_count": null,
   "id": "07fc2ae7",
   "metadata": {},
   "outputs": [],
   "source": []
  }
 ],
 "metadata": {
  "kernelspec": {
   "display_name": "Python 3 (ipykernel)",
   "language": "python",
   "name": "python3"
  },
  "language_info": {
   "codemirror_mode": {
    "name": "ipython",
    "version": 3
   },
   "file_extension": ".py",
   "mimetype": "text/x-python",
   "name": "python",
   "nbconvert_exporter": "python",
   "pygments_lexer": "ipython3",
   "version": "3.9.13"
  }
 },
 "nbformat": 4,
 "nbformat_minor": 5
}
