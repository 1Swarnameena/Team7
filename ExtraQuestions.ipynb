{
 "cells": [
  {
   "cell_type": "code",
   "execution_count": 2,
   "id": "50dbcd1e",
   "metadata": {},
   "outputs": [],
   "source": [
    "import seaborn as sns\n",
    "import pandas as pd\n",
    "import numpy as np\n",
    "import matplotlib.pyplot as plt\n",
    "import datetime"
   ]
  },
  {
   "cell_type": "markdown",
   "id": "88d81178",
   "metadata": {},
   "source": [
    "# Extra Questions"
   ]
  },
  {
   "cell_type": "markdown",
   "id": "b4821377",
   "metadata": {},
   "source": [
    "### Q. Create a bar chart bar depicting gender wise readmission."
   ]
  },
  {
   "cell_type": "code",
   "execution_count": 88,
   "id": "17508e8b",
   "metadata": {},
   "outputs": [
    {
     "data": {
      "image/png": "[encoded data removed]",
      "text/plain": [
       "<Figure size 640x480 with 1 Axes>"
      ]
     },
     "metadata": {},
     "output_type": "display_data"
    }
   ],
   "source": [
    "df1 = pd.read_excel(\"HospitalDatabase.xlsx\",\"Patients\")\n",
    "df2 = pd.read_excel(\"HospitalDatabase.xlsx\",\"ReAdmissionRegistry\")\n",
    "df = df2.merge(df1,on ='PatientID')\n",
    "\n",
    "df['ReadmissionFlag']=df['ReadmissionFlag'].fillna('0').astype(int)\n",
    "\n",
    "sns.countplot(x = df['Gender'], hue = df['ReadmissionFlag']).set_title(\"Gender wise ReAdmission\")\n",
    "plt.show()"
   ]
  },
  {
   "cell_type": "markdown",
   "id": "edff6337",
   "metadata": {},
   "source": [
    "### Q. Apply aggregate functions on 'Expected Mortality' and 'Age'  taking gender into account"
   ]
  },
  {
   "cell_type": "code",
   "execution_count": 35,
   "id": "ed8ec48d",
   "metadata": {},
   "outputs": [
    {
     "data": {
      "text/html": [
       "<div>\n",
       "<style scoped>\n",
       "    .dataframe tbody tr th:only-of-type {\n",
       "        vertical-align: middle;\n",
       "    }\n",
       "\n",
       "    .dataframe tbody tr th {\n",
       "        vertical-align: top;\n",
       "    }\n",
       "\n",
       "    .dataframe thead th {\n",
       "        text-align: right;\n",
       "    }\n",
       "</style>\n",
       "<table border=\"1\" class=\"dataframe\">\n",
       "  <thead>\n",
       "    <tr style=\"text-align: right;\">\n",
       "      <th></th>\n",
       "      <th>Gender</th>\n",
       "      <th>Female</th>\n",
       "      <th>Male</th>\n",
       "    </tr>\n",
       "  </thead>\n",
       "  <tbody>\n",
       "    <tr>\n",
       "      <th rowspan=\"8\" valign=\"top\">ExpectedMortality</th>\n",
       "      <th>count</th>\n",
       "      <td>311.000000</td>\n",
       "      <td>409.000000</td>\n",
       "    </tr>\n",
       "    <tr>\n",
       "      <th>mean</th>\n",
       "      <td>0.335509</td>\n",
       "      <td>0.340005</td>\n",
       "    </tr>\n",
       "    <tr>\n",
       "      <th>std</th>\n",
       "      <td>0.230244</td>\n",
       "      <td>0.245485</td>\n",
       "    </tr>\n",
       "    <tr>\n",
       "      <th>min</th>\n",
       "      <td>0.003276</td>\n",
       "      <td>0.000006</td>\n",
       "    </tr>\n",
       "    <tr>\n",
       "      <th>25%</th>\n",
       "      <td>0.151260</td>\n",
       "      <td>0.129200</td>\n",
       "    </tr>\n",
       "    <tr>\n",
       "      <th>50%</th>\n",
       "      <td>0.298761</td>\n",
       "      <td>0.288647</td>\n",
       "    </tr>\n",
       "    <tr>\n",
       "      <th>75%</th>\n",
       "      <td>0.470745</td>\n",
       "      <td>0.511591</td>\n",
       "    </tr>\n",
       "    <tr>\n",
       "      <th>max</th>\n",
       "      <td>0.980479</td>\n",
       "      <td>0.989945</td>\n",
       "    </tr>\n",
       "    <tr>\n",
       "      <th rowspan=\"8\" valign=\"top\">Age</th>\n",
       "      <th>count</th>\n",
       "      <td>311.000000</td>\n",
       "      <td>409.000000</td>\n",
       "    </tr>\n",
       "    <tr>\n",
       "      <th>mean</th>\n",
       "      <td>49.167203</td>\n",
       "      <td>49.361858</td>\n",
       "    </tr>\n",
       "    <tr>\n",
       "      <th>std</th>\n",
       "      <td>8.018387</td>\n",
       "      <td>7.808122</td>\n",
       "    </tr>\n",
       "    <tr>\n",
       "      <th>min</th>\n",
       "      <td>35.000000</td>\n",
       "      <td>35.000000</td>\n",
       "    </tr>\n",
       "    <tr>\n",
       "      <th>25%</th>\n",
       "      <td>43.000000</td>\n",
       "      <td>43.000000</td>\n",
       "    </tr>\n",
       "    <tr>\n",
       "      <th>50%</th>\n",
       "      <td>49.000000</td>\n",
       "      <td>49.000000</td>\n",
       "    </tr>\n",
       "    <tr>\n",
       "      <th>75%</th>\n",
       "      <td>57.000000</td>\n",
       "      <td>56.000000</td>\n",
       "    </tr>\n",
       "    <tr>\n",
       "      <th>max</th>\n",
       "      <td>63.000000</td>\n",
       "      <td>63.000000</td>\n",
       "    </tr>\n",
       "  </tbody>\n",
       "</table>\n",
       "</div>"
      ],
      "text/plain": [
       "Gender                       Female        Male\n",
       "ExpectedMortality count  311.000000  409.000000\n",
       "                  mean     0.335509    0.340005\n",
       "                  std      0.230244    0.245485\n",
       "                  min      0.003276    0.000006\n",
       "                  25%      0.151260    0.129200\n",
       "                  50%      0.298761    0.288647\n",
       "                  75%      0.470745    0.511591\n",
       "                  max      0.980479    0.989945\n",
       "Age               count  311.000000  409.000000\n",
       "                  mean    49.167203   49.361858\n",
       "                  std      8.018387    7.808122\n",
       "                  min     35.000000   35.000000\n",
       "                  25%     43.000000   43.000000\n",
       "                  50%     49.000000   49.000000\n",
       "                  75%     57.000000   56.000000\n",
       "                  max     63.000000   63.000000"
      ]
     },
     "execution_count": 35,
     "metadata": {},
     "output_type": "execute_result"
    }
   ],
   "source": [
    "df1 = pd.read_excel(\"HospitalDatabase.xlsx\",\"Patients\")\n",
    "df2 = pd.read_excel(\"HospitalDatabase.xlsx\",\"ReAdmissionRegistry\")\n",
    "data = df2.merge(df1,on ='PatientID')\n",
    "\n",
    "from dateutil.relativedelta import relativedelta\n",
    "\n",
    "data['Age'] = [relativedelta(pd.Timestamp.now(), d).years for d in data['DateOfBirth']]\n",
    "\n",
    "result = data.loc[:,['ExpectedMortality','Age','Gender']]\n",
    "test = result.groupby(['Gender'])\n",
    "test.describe().T"
   ]
  },
  {
   "cell_type": "markdown",
   "id": "497bbfa1",
   "metadata": {},
   "source": [
    "### Q. Calculate the Readmission Rate"
   ]
  },
  {
   "cell_type": "code",
   "execution_count": 44,
   "id": "a8f65654",
   "metadata": {},
   "outputs": [
    {
     "name": "stdout",
     "output_type": "stream",
     "text": [
      "The Readmission rate is :  0.269\n"
     ]
    }
   ],
   "source": [
    "data = pd.read_excel(\"HospitalDatabase.xlsx\",\"ReAdmissionRegistry\")\n",
    "SumOfReadmissionFlags = data['ReadmissionFlag'].sum()\n",
    "CountOfAdmissionIds = data['AdmissionID'].count()\n",
    "\n",
    "ReadmissionRate = round((SumOfReadmissionFlags / CountOfAdmissionIds),3)\n",
    "print(\"The Readmission rate is : \", ReadmissionRate) "
   ]
  },
  {
   "cell_type": "markdown",
   "id": "358f429e",
   "metadata": {},
   "source": [
    "### Q. Concise summary of the data sheet 'Discharges'"
   ]
  },
  {
   "cell_type": "code",
   "execution_count": 5,
   "id": "6aa08a56",
   "metadata": {},
   "outputs": [
    {
     "name": "stdout",
     "output_type": "stream",
     "text": [
      "<class 'pandas.core.frame.DataFrame'>\n",
      "RangeIndex: 720 entries, 0 to 719\n",
      "Data columns (total 9 columns):\n",
      " #   Column                Non-Null Count  Dtype         \n",
      "---  ------                --------------  -----         \n",
      " 0   AdmissionID           720 non-null    int64         \n",
      " 1   PatientID             720 non-null    int64         \n",
      " 2   AdmissionDate         720 non-null    datetime64[ns]\n",
      " 3   DischargeDate         720 non-null    datetime64[ns]\n",
      " 4   DischargeDisposition  720 non-null    object        \n",
      " 5   Service               720 non-null    object        \n",
      " 6   PrimaryDiagnosis      720 non-null    object        \n",
      " 7   ExpectedLOS           720 non-null    float64       \n",
      " 8   ExpectedMortality     720 non-null    float64       \n",
      "dtypes: datetime64[ns](2), float64(2), int64(2), object(3)\n",
      "memory usage: 50.8+ KB\n"
     ]
    }
   ],
   "source": [
    "data = pd.read_excel(\"HospitalDatabase.xlsx\",\"Discharges\")\n",
    "data.info()"
   ]
  },
  {
   "cell_type": "markdown",
   "id": "e97c0b1a",
   "metadata": {},
   "source": [
    "### Q. Calculate the number of provides for each speciality"
   ]
  },
  {
   "cell_type": "code",
   "execution_count": 4,
   "id": "7c2bdf18",
   "metadata": {},
   "outputs": [
    {
     "data": {
      "text/html": [
       "<div>\n",
       "<style scoped>\n",
       "    .dataframe tbody tr th:only-of-type {\n",
       "        vertical-align: middle;\n",
       "    }\n",
       "\n",
       "    .dataframe tbody tr th {\n",
       "        vertical-align: top;\n",
       "    }\n",
       "\n",
       "    .dataframe thead th {\n",
       "        text-align: right;\n",
       "    }\n",
       "</style>\n",
       "<table border=\"1\" class=\"dataframe\">\n",
       "  <thead>\n",
       "    <tr style=\"text-align: right;\">\n",
       "      <th></th>\n",
       "      <th>ProviderSpecialty</th>\n",
       "      <th>ProviderCount</th>\n",
       "    </tr>\n",
       "  </thead>\n",
       "  <tbody>\n",
       "    <tr>\n",
       "      <th>0</th>\n",
       "      <td>Cardiology</td>\n",
       "      <td>8</td>\n",
       "    </tr>\n",
       "    <tr>\n",
       "      <th>1</th>\n",
       "      <td>Pediatrics</td>\n",
       "      <td>9</td>\n",
       "    </tr>\n",
       "    <tr>\n",
       "      <th>2</th>\n",
       "      <td>PrimaryCare</td>\n",
       "      <td>16</td>\n",
       "    </tr>\n",
       "    <tr>\n",
       "      <th>3</th>\n",
       "      <td>Surgery</td>\n",
       "      <td>7</td>\n",
       "    </tr>\n",
       "  </tbody>\n",
       "</table>\n",
       "</div>"
      ],
      "text/plain": [
       "  ProviderSpecialty  ProviderCount\n",
       "0        Cardiology              8\n",
       "1        Pediatrics              9\n",
       "2       PrimaryCare             16\n",
       "3           Surgery              7"
      ]
     },
     "execution_count": 4,
     "metadata": {},
     "output_type": "execute_result"
    }
   ],
   "source": [
    "data = pd.read_excel('HospitalDatabase.xlsx', sheet_name='Providers')\n",
    "data1 = (data.groupby(['ProviderSpecialty']).size()).reset_index(name='ProviderCount')\n",
    "data1"
   ]
  },
  {
   "cell_type": "markdown",
   "id": "52c27b98",
   "metadata": {},
   "source": [
    "### Q. Boxplot to show DaysToReadmission"
   ]
  },
  {
   "cell_type": "code",
   "execution_count": 3,
   "id": "92f619a9",
   "metadata": {},
   "outputs": [
    {
     "data": {
      "text/plain": [
       "<AxesSubplot:>"
      ]
     },
     "execution_count": 3,
     "metadata": {},
     "output_type": "execute_result"
    },
    {
     "data": {
      "image/png": "[encoded data removed]",
      "text/plain": [
       "<Figure size 640x480 with 1 Axes>"
      ]
     },
     "metadata": {},
     "output_type": "display_data"
    }
   ],
   "source": [
    "df = pd.read_excel(\"HospitalDatabase.xlsx\",sheet_name=None)\n",
    "Entire_dataset=pd.concat(df.values())\n",
    "Entire_dataset[['DaysToReadmission']].boxplot()"
   ]
  },
  {
   "cell_type": "code",
   "execution_count": null,
   "id": "37461ce4",
   "metadata": {},
   "outputs": [],
   "source": []
  }
 ],
 "metadata": {
  "kernelspec": {
   "display_name": "Python 3 (ipykernel)",
   "language": "python",
   "name": "python3"
  },
  "language_info": {
   "codemirror_mode": {
    "name": "ipython",
    "version": 3
   },
   "file_extension": ".py",
   "mimetype": "text/x-python",
   "name": "python",
   "nbconvert_exporter": "python",
   "pygments_lexer": "ipython3",
   "version": "3.9.13"
  }
 },
 "nbformat": 4,
 "nbformat_minor": 5
}
